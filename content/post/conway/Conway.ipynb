{
 "cells": [
  {
   "cell_type": "markdown",
   "id": "e83fe8e1",
   "metadata": {},
   "source": [
    "# Exploring Conway's Game of Life in C++\n",
    "\n",
    "Draft post. \n"
   ]
  },
  {
   "cell_type": "code",
   "execution_count": null,
   "id": "c614065c",
   "metadata": {},
   "outputs": [],
   "source": []
  }
 ],
 "metadata": {
  "kernelspec": {
   "display_name": "Python 3 (ipykernel)",
   "language": "python",
   "name": "python3"
  },
  "language_info": {
   "codemirror_mode": {
    "name": "ipython",
    "version": 3
   },
   "file_extension": ".py",
   "mimetype": "text/x-python",
   "name": "python",
   "nbconvert_exporter": "python",
   "pygments_lexer": "ipython3",
   "version": "3.9.12"
  }
 },
 "nbformat": 4,
 "nbformat_minor": 5
}
